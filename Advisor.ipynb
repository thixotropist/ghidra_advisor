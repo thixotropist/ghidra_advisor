{
 "cells": [
  {
   "cell_type": "markdown",
   "id": "51c290b8-b01e-4e15-98ae-66a46c29e30b",
   "metadata": {},
   "source": [
    "# RISCV vector sequence advisor\n",
    "\n",
    "Analyze a snippet of RISCV vector disassembly to suggest what C code might have generated it. Select a listing fragment from the Ghidra listing window, copy it to the clipboard, then run the following cell for Advisor output."
   ]
  },
  {
   "cell_type": "code",
   "execution_count": null,
   "id": "979886cf-9620-4bb0-9e7b-9c9919764a8f",
   "metadata": {
    "scrolled": true
   },
   "outputs": [],
   "source": [
    "from advisor import Advisor\n",
    "advisor = Advisor()"
   ]
  },
  {
   "cell_type": "markdown",
   "id": "1e00923a-da6c-4e90-90dc-32de481cd513",
   "metadata": {},
   "source": [
    "## Reference Material\n",
    "\n",
    "### Definitions\n",
    "\n",
    "[From the RISCV Vector Specification](https://github.com/riscv/riscv-v-spec/blob/master/v-spec.adoc#risc-v-v-vector-extension)\n",
    "\n",
    "VLEN\n",
    ": The number of bits in a single vector register, at least 128 for a general purpose hart\n",
    "\n",
    "VLENB\n",
    ": The number of bytes in a single vector register, (VLEN/8).  Available at runtime with the instruction\n",
    "`csrrs   reg,vlenb,zero`\n",
    "\n",
    "\n",
    "SEW\n",
    ": selected element width (in bits)\n",
    "\n",
    "LMUL\n",
    ": LMUL, when greater than 1, represents the default number of vector registers that are combined to form a vector register group. Implementations must support LMUL integer values of 1, 2, 4, and 8.\n",
    "\n",
    "EMUL\n",
    ": The effective LMUL (EMUL) of each vector operand is determined by the number of registers required to hold the elements. For example, for a widening add operation, such as add 32-bit values to produce 64-bit results, a double-width result requires twice the LMUL of the single-width inputs."
   ]
  },
  {
   "cell_type": "code",
   "execution_count": null,
   "id": "021675dc-563e-47b6-ad7a-fabb8bad1bc6",
   "metadata": {},
   "outputs": [],
   "source": []
  },
  {
   "cell_type": "code",
   "execution_count": null,
   "id": "da73dfd5-f792-4e23-aa3d-d2bd1e76550d",
   "metadata": {},
   "outputs": [],
   "source": []
  }
 ],
 "metadata": {
  "kernelspec": {
   "display_name": "Python 3 (ipykernel)",
   "language": "python",
   "name": "python3"
  },
  "language_info": {
   "codemirror_mode": {
    "name": "ipython",
    "version": 3
   },
   "file_extension": ".py",
   "mimetype": "text/x-python",
   "name": "python",
   "nbconvert_exporter": "python",
   "pygments_lexer": "ipython3",
   "version": "3.12.6"
  }
 },
 "nbformat": 4,
 "nbformat_minor": 5
}
